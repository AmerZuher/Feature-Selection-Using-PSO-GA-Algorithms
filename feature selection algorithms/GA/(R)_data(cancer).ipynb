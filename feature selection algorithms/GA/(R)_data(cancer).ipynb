{
 "cells": [
  {
   "cell_type": "code",
   "execution_count": 2,
   "metadata": {},
   "outputs": [],
   "source": [
    "from sklearn.model_selection import train_test_split\n",
    "from sklearn.linear_model import LogisticRegression\n",
    "from sklearn.ensemble import RandomForestClassifier\n",
    "from sklearn.neighbors import KNeighborsClassifier\n",
    "from sklearn.svm import SVC\n",
    "from sklearn import datasets\n",
    "import numpy as np\n",
    "from sklearn.metrics import accuracy_score, confusion_matrix\n",
    "from tabulate import tabulate\n",
    "import time\n",
    "import matplotlib.pyplot as plt\n",
    "import concurrent.futures\n",
    "from IPython.display import display, HTML\n",
    "import random"
   ]
  },
  {
   "cell_type": "markdown",
   "metadata": {},
   "source": [
    "Load the cancer dataset"
   ]
  },
  {
   "cell_type": "code",
   "execution_count": 5,
   "metadata": {},
   "outputs": [],
   "source": [
    "cancer = datasets.load_breast_cancer()\n",
    "X = cancer.data\n",
    "y = cancer.target\n",
    "\n",
    "# Split the dataset into training and testing sets\n",
    "X_train, X_test, y_train, y_test = train_test_split(X, y, test_size=0.2, random_state=42)"
   ]
  },
  {
   "cell_type": "code",
   "execution_count": 14,
   "metadata": {},
   "outputs": [
    {
     "name": "stdout",
     "output_type": "stream",
     "text": [
      "Number of features in the cancer dataset: 30\n"
     ]
    }
   ],
   "source": [
    "feature_names = cancer.feature_names\n",
    "num_features = len(feature_names)\n",
    "print(\"Number of features in the cancer dataset:\", num_features)"
   ]
  },
  {
   "cell_type": "markdown",
   "metadata": {},
   "source": [
    "Initialize the population randomly"
   ]
  },
  {
   "cell_type": "code",
   "execution_count": 11,
   "metadata": {},
   "outputs": [],
   "source": [
    "population_size = 11\n",
    "num_generations = 10\n",
    "mutation_rate = 0.01\n",
    "num_genes = X.shape[1]"
   ]
  },
  {
   "cell_type": "code",
   "execution_count": 13,
   "metadata": {},
   "outputs": [
    {
     "name": "stdout",
     "output_type": "stream",
     "text": [
      "(11, 30)\n",
      "[[0 0 1 1 1 0 0 1 0 0 0 1 1 0 1 1 1 0 1 0 1 0 1 1 0 0 0 1 1 1]\n",
      " [1 0 0 1 1 0 0 1 0 0 0 1 1 0 1 0 1 1 0 0 0 1 1 1 1 1 0 0 1 1]\n",
      " [0 0 1 1 0 1 1 1 0 0 1 0 1 0 0 0 0 0 1 0 1 0 1 0 1 0 1 0 1 1]\n",
      " [1 1 0 0 0 1 1 1 0 1 1 1 1 1 0 0 1 1 0 1 0 1 1 0 1 0 0 1 0 1]\n",
      " [0 0 1 1 1 0 0 1 1 1 0 1 0 0 1 0 0 1 1 1 0 1 0 0 1 0 1 0 0 1]\n",
      " [1 0 1 1 1 1 0 0 0 1 1 1 1 1 1 0 0 0 1 0 1 0 0 0 0 0 0 0 1 0]\n",
      " [1 1 1 0 0 1 0 0 0 0 0 0 0 1 1 0 0 1 0 1 1 1 0 0 1 0 0 0 0 0]\n",
      " [1 0 1 0 0 1 1 1 0 1 1 0 1 1 1 0 0 0 1 1 0 1 0 0 0 0 1 0 0 1]\n",
      " [1 0 0 1 1 0 0 0 1 1 1 0 0 0 0 1 1 0 0 0 1 0 1 1 1 1 0 1 0 1]\n",
      " [1 1 1 0 1 0 0 0 1 0 0 0 1 1 0 0 0 1 1 1 1 0 1 0 0 0 1 1 1 1]\n",
      " [0 0 1 0 1 0 1 1 0 1 0 0 0 1 0 1 1 0 0 0 0 1 1 0 1 1 0 1 1 1]]\n"
     ]
    }
   ],
   "source": [
    "population =  np.random.randint(2, size=(population_size,X.shape[1]))\n",
    "print(population.shape)\n",
    "print(population)"
   ]
  },
  {
   "cell_type": "markdown",
   "metadata": {},
   "source": [
    "Fitness"
   ]
  },
  {
   "cell_type": "code",
   "execution_count": 19,
   "metadata": {},
   "outputs": [],
   "source": [
    "def fitness_function(individual):\n",
    "    X_train_subset = X_train[:, individual]\n",
    "    X_test_subset = X_test[:, individual]\n",
    "    classifier =  RandomForestClassifier(random_state=42)\n",
    "    classifier.fit(X_train_subset, y_train)\n",
    "    y_pred = classifier.predict(X_test_subset)\n",
    "    reversed_accuracy = 1 - accuracy_score(y_test, y_pred)\n",
    "    return reversed_accuracy"
   ]
  },
  {
   "cell_type": "markdown",
   "metadata": {},
   "source": [
    "Get the best features"
   ]
  },
  {
   "cell_type": "code",
   "execution_count": 20,
   "metadata": {},
   "outputs": [],
   "source": [
    "def run_evolutionary_algorithm(seed):\n",
    "    #Ensures that each run of the evolutionary algorithm starts with the same initial random state\n",
    "    np.random.seed(seed)\n",
    "\n",
    "    #Genetic Algorithm parameters\n",
    "    population_size = 10\n",
    "    num_generations = 5\n",
    "    mutation_rate = 0.01\n",
    "    num_genes = X.shape[1]\n",
    "\n",
    "    population =  np.random.randint(2, size=(population_size,X.shape[1]))\n",
    "\n",
    "    generation_list = []\n",
    "    best_fitness_list = []\n",
    "    best_features_list = []\n",
    "\n",
    "\n",
    "    for generation in range(num_generations):\n",
    "        \n",
    "        fitness_values = [fitness_function(individual) for individual in population]\n",
    "        \n",
    "        best_index = np.argmin(fitness_values)\n",
    "        generation_list.append(generation + 1)\n",
    "        best_fitness_list.append(fitness_values[best_index])\n",
    "        best_features_list.append(population[best_index])\n",
    "\n",
    "        selected_indices = np.argsort(fitness_values)\n",
    "        selected_population = [population[i] for i in selected_indices]\n",
    "\n",
    "        offspring_population = []\n",
    "        for i in range(0, len(selected_population) - 1, 2):\n",
    "            parent1 = selected_population[i]\n",
    "            parent2 = selected_population[i + 1]\n",
    "            crossover_point = np.random.randint(1, num_genes)\n",
    "            offspring1 = np.concatenate((parent1[:crossover_point], parent2[crossover_point:]))\n",
    "            offspring2 = np.concatenate((parent2[:crossover_point], parent1[crossover_point:]))\n",
    "            offspring_population.extend([offspring1, offspring2])\n",
    "\n",
    "        offspring_population = np.array(offspring_population)\n",
    "\n",
    "        for i in range(len(offspring_population)):\n",
    "            for j in range(num_genes):\n",
    "                if np.random.rand() < mutation_rate:\n",
    "                    offspring_population[i, j] = 1 - offspring_population[i, j]\n",
    "\n",
    "        combined_population = np.vstack([selected_population, offspring_population])\n",
    "        next_generation_indices = np.argsort([fitness_function(individual) for individual in combined_population])[:population_size]\n",
    "        population = [combined_population[i] for i in next_generation_indices]\n",
    "\n",
    "    best_features = population[np.argmin([fitness_function(individual) for individual in population])]\n",
    "    return generation_list, best_fitness_list, best_features"
   ]
  },
  {
   "cell_type": "markdown",
   "metadata": {},
   "source": [
    "Run multible Times"
   ]
  },
  {
   "cell_type": "code",
   "execution_count": 21,
   "metadata": {},
   "outputs": [],
   "source": [
    "# Number of runs for the evolutionary algorithm\n",
    "num_runs = 5\n",
    "\n",
    "# List to store data for each run\n",
    "all_generation_data = []\n",
    "bestfitness=[]\n",
    "\n",
    "# Run the evolutionary algorithm in parallel using ThreadPoolExecutor\n",
    "with concurrent.futures.ThreadPoolExecutor() as executor:\n",
    "    # Generate seeds for each run\n",
    "    seeds = range(num_runs)\n",
    "\n",
    "    # Execute the evolutionary algorithm for each seed and collect results\n",
    "    results = list(executor.map(run_evolutionary_algorithm, seeds))\n",
    "        \n",
    "    # Process and store data for each run\n",
    "    for result in results:\n",
    "        generation_data = {\"generation_list\": result[0], \"best_fitness_list\": result[1], \"best_features\": result[2]}\n",
    "        all_generation_data.append(generation_data)\n",
    "        newdata  = {\"best_fitness_list\": min(result[1]), \"best_features\": result[2]}\n",
    "        bestfitness.append(newdata)"
   ]
  },
  {
   "cell_type": "code",
   "execution_count": null,
   "metadata": {},
   "outputs": [],
   "source": [
    "best_result = min(bestfitness, key=lambda x: x['best_fitness_list'])\n",
    "best_features_overall = best_result[\"best_features\"]"
   ]
  },
  {
   "cell_type": "markdown",
   "metadata": {},
   "source": [
    "Plot the graph for each run and the overall best features"
   ]
  },
  {
   "cell_type": "code",
   "execution_count": 22,
   "metadata": {},
   "outputs": [
    {
     "data": {
      "image/png": "[encoded data removed]",
      "text/plain": [
       "<Figure size 640x480 with 1 Axes>"
      ]
     },
     "metadata": {},
     "output_type": "display_data"
    },
    {
     "name": "stdout",
     "output_type": "stream",
     "text": [
      "Best Features Overall (Binary Representation): [0 1 1 1 1 1 1 0 0 1 1 0 1 1 0 1 0 0 1 0 1 0 1 1 0 1 1 0 0 1]\n",
      "Fitness of Best Features Overall: 0.06140350877192979\n"
     ]
    }
   ],
   "source": [
    "# Plot the graph for each run\n",
    "for run, data in enumerate(all_generation_data, start=1):\n",
    "    plt.plot(data[\"generation_list\"], data[\"best_fitness_list\"], marker='o', label=f'Run {run}')\n",
    "\n",
    "# Set plot properties\n",
    "plt.title('Best Fitness in Each Generation')\n",
    "plt.xlabel('Generation')\n",
    "plt.ylabel('Best Fitness')\n",
    "plt.legend()\n",
    "    \n",
    "# Show the plot\n",
    "plt.show()\n",
    "\n",
    "# Print the overall best features\n",
    "print(\"Best Features Overall (Binary Representation):\", best_features_overall[2])\n",
    "print(\"Fitness of Best Features Overall:\", fitness_function(best_features_overall[2]))"
   ]
  },
  {
   "cell_type": "code",
   "execution_count": 23,
   "metadata": {},
   "outputs": [],
   "source": [
    "X_train_subset = X_train[:, best_features_overall.astype(bool)]\n",
    "X_test_subset = X_test[:, best_features_overall.astype(bool)]\n",
    "random_state = random.randint(1, 50)"
   ]
  },
  {
   "cell_type": "markdown",
   "metadata": {},
   "source": [
    "Random Forest"
   ]
  },
  {
   "cell_type": "code",
   "execution_count": 24,
   "metadata": {},
   "outputs": [],
   "source": [
    "start_time_after_rf = time.time()\n",
    "\n",
    "clf_after_rf = RandomForestClassifier(random_state=random_state)\n",
    "clf_after_rf.fit(X_train_subset, y_train)\n",
    "y_pred_after_rf = clf_after_rf.predict(X_test_subset)\n",
    "accuracy_after_rf = accuracy_score(y_test, y_pred_after_rf)\n",
    "\n",
    "end_time_after_rf = time.time()\n",
    "time_taken_after_rf = end_time_after_rf - start_time_after_rf\n",
    "\n",
    "start_time_before_rf = time.time()\n",
    "\n",
    "clf_before_rf = RandomForestClassifier(random_state=random_state)\n",
    "clf_before_rf.fit(X_train, y_train)\n",
    "y_pred_before_rf = clf_before_rf.predict(X_test)\n",
    "accuracy_before_rf = accuracy_score(y_test, y_pred_before_rf)\n",
    "\n",
    "end_time_before_rf = time.time()\n",
    "time_taken_before_rf = end_time_before_rf - start_time_before_rf"
   ]
  },
  {
   "cell_type": "markdown",
   "metadata": {},
   "source": [
    "K-Nearest Neighbors Classifier"
   ]
  },
  {
   "cell_type": "code",
   "execution_count": 25,
   "metadata": {},
   "outputs": [],
   "source": [
    "start_time_after_knn = time.time()\n",
    "\n",
    "clf_after_knn = KNeighborsClassifier()\n",
    "clf_after_knn.fit(X_train_subset, y_train)\n",
    "y_pred_after_knn = clf_after_knn.predict(X_test_subset)\n",
    "accuracy_after_knn = accuracy_score(y_test, y_pred_after_knn)\n",
    "\n",
    "end_time_after_knn = time.time()\n",
    "time_taken_after_knn = end_time_after_knn - start_time_after_knn\n",
    "\n",
    "start_time_before_knn = time.time()\n",
    "\n",
    "clf_before_knn = KNeighborsClassifier()\n",
    "clf_before_knn.fit(X_train, y_train)\n",
    "y_pred_before_knn = clf_before_knn.predict(X_test)\n",
    "accuracy_before_knn = accuracy_score(y_test, y_pred_before_knn)\n",
    "\n",
    "end_time_before_knn = time.time()\n",
    "time_taken_before_knn = end_time_before_knn - start_time_before_knn\n"
   ]
  },
  {
   "cell_type": "markdown",
   "metadata": {},
   "source": [
    "Support Vector Machine Classifier"
   ]
  },
  {
   "cell_type": "code",
   "execution_count": 26,
   "metadata": {},
   "outputs": [],
   "source": [
    "start_time_after_svm = time.time()\n",
    "\n",
    "clf_after_svm = SVC(kernel='linear', C=1.0, random_state=random_state)\n",
    "clf_after_svm.fit(X_train_subset, y_train)\n",
    "y_pred_after_svm = clf_after_svm.predict(X_test_subset)\n",
    "accuracy_after_svm = accuracy_score(y_test, y_pred_after_svm)\n",
    "\n",
    "end_time_after_svm = time.time()\n",
    "time_taken_after_svm = end_time_after_svm - start_time_after_svm\n",
    "\n",
    "start_time_before_svm = time.time()\n",
    "\n",
    "clf_before_svm = SVC(kernel='linear', C=1.0, random_state=random_state)\n",
    "clf_before_svm.fit(X_train, y_train)\n",
    "y_pred_before_svm = clf_before_svm.predict(X_test)\n",
    "accuracy_before_svm = accuracy_score(y_test, y_pred_before_svm)\n",
    "\n",
    "end_time_before_svm = time.time()\n",
    "time_taken_before_svm = end_time_before_svm - start_time_before_svm"
   ]
  },
  {
   "cell_type": "markdown",
   "metadata": {},
   "source": [
    "Logistic Regression"
   ]
  },
  {
   "cell_type": "code",
   "execution_count": 27,
   "metadata": {},
   "outputs": [],
   "source": [
    "start_time_after_lr = time.time()\n",
    "clf_after_lr = LogisticRegression(solver='liblinear', random_state=random_state)\n",
    "clf_after_lr.fit(X_train_subset, y_train)\n",
    "y_pred_after_lr = clf_after_lr.predict(X_test_subset)\n",
    "accuracy_after_lr = accuracy_score(y_test, y_pred_after_lr)\n",
    "end_time_after_lr = time.time()\n",
    "time_taken_after_lr = end_time_after_lr - start_time_after_lr\n",
    "\n",
    "start_time_before_lr = time.time()\n",
    "clf_before_lr = LogisticRegression(solver='liblinear', random_state=random_state)\n",
    "clf_before_lr.fit(X_train, y_train)\n",
    "y_pred_before_lr = clf_before_lr.predict(X_test)\n",
    "accuracy_before_lr = accuracy_score(y_test, y_pred_before_lr)\n",
    "end_time_before_lr = time.time()\n",
    "time_taken_before_lr = end_time_before_lr - start_time_before_lr"
   ]
  },
  {
   "cell_type": "markdown",
   "metadata": {},
   "source": [
    "Results"
   ]
  },
  {
   "cell_type": "code",
   "execution_count": 28,
   "metadata": {},
   "outputs": [
    {
     "name": "stdout",
     "output_type": "stream",
     "text": [
      "+----------------------+---------------------------+---------------+--------------------+\n",
      "|      Algorithm       |         Scenario          |   Accuracy    |     Time Taken     |\n",
      "+----------------------+---------------------------+---------------+--------------------+\n",
      "|    Random Forest     | Before Feature Selection  |    0.9649     |   0.3770 seconds   |\n",
      "|    Random Forest     |  After Feature Selection  |    0.9737     |   0.3303 seconds   |\n",
      "| -------------------- | ------------------------- | ------------- | ------------------ |\n",
      "|         KNN          | Before Feature Selection  |    0.9561     |   0.0090 seconds   |\n",
      "|         KNN          |  After Feature Selection  |    0.9474     |   0.0157 seconds   |\n",
      "| -------------------- | ------------------------- | ------------- | ------------------ |\n",
      "|         SVM          | Before Feature Selection  |    0.9561     |   1.3561 seconds   |\n",
      "|         SVM          |  After Feature Selection  |    0.9737     |   1.0043 seconds   |\n",
      "| -------------------- | ------------------------- | ------------- | ------------------ |\n",
      "| Logistic Regression  | Before Feature Selection  |    0.9561     |   0.0075 seconds   |\n",
      "| Logistic Regression  |  After Feature Selection  |    0.9737     |   0.0065 seconds   |\n",
      "+----------------------+---------------------------+---------------+--------------------+\n"
     ]
    }
   ],
   "source": [
    "table = [\n",
    "    [\"Random Forest\", \"Before Feature Selection\", f\"{accuracy_before_rf:.4f}\", f\"{time_taken_before_rf:.4f} seconds\"],\n",
    "    [\"Random Forest\", \"After Feature Selection\", f\"{accuracy_after_rf:.4f}\", f\"{time_taken_after_rf:.4f} seconds\"],\n",
    "    [\"-\" * 20, \"-\" * 25, \"-\" * 13, \"-\" * 18],  # Line between Random Forest and KNN\n",
    "    [\"KNN\", \"Before Feature Selection\", f\"{accuracy_before_knn:.4f}\", f\"{time_taken_before_knn:.4f} seconds\"],\n",
    "    [\"KNN\", \"After Feature Selection\", f\"{accuracy_after_knn:.4f}\", f\"{time_taken_after_knn:.4f} seconds\"],\n",
    "    [\"-\" * 20, \"-\" * 25, \"-\" * 13, \"-\" * 18],  # Line between KNN and SVM\n",
    "    [\"SVM\", \"Before Feature Selection\", f\"{accuracy_before_svm:.4f}\", f\"{time_taken_before_svm:.4f} seconds\"],\n",
    "    [\"SVM\", \"After Feature Selection\", f\"{accuracy_after_svm:.4f}\", f\"{time_taken_after_svm:.4f} seconds\"],\n",
    "    [\"-\" * 20, \"-\" * 25, \"-\" * 13, \"-\" * 18],  # Line between SVM and Logistic Regression\n",
    "    [\"Logistic Regression\", \"Before Feature Selection\", f\"{accuracy_before_lr:.4f}\", f\"{time_taken_before_lr:.4f} seconds\"],\n",
    "    [\"Logistic Regression\", \"After Feature Selection\", f\"{accuracy_after_lr:.4f}\", f\"{time_taken_after_lr:.4f} seconds\"]\n",
    "]\n",
    "\n",
    "print(tabulate(table, headers=[\"Algorithm\", \"Scenario\", \"Accuracy\", \"Time Taken\"], tablefmt=\"pretty\"))"
   ]
  },
  {
   "cell_type": "code",
   "execution_count": 29,
   "metadata": {},
   "outputs": [
    {
     "name": "stdout",
     "output_type": "stream",
     "text": [
      "[0 1 1 1 1 1 1 0 0 1 1 0 1 1 0 1 0 0 1 0 1 0 1 1 0 1 1 0 0 1]\n"
     ]
    },
    {
     "data": {
      "text/html": [
       "<table><tr><th>Feature Number</th><th>Selected Features</th><th>Not Selected Features</th></tr><tr><td></td><td>Total Selected Features:</td><td>18</td></tr><tr><td>0</td><td></td><td>mean radius</td></tr><tr><td>1</td><td>mean texture</td><td></td></tr><tr><td>2</td><td>mean perimeter</td><td></td></tr><tr><td>3</td><td>mean area</td><td></td></tr><tr><td>4</td><td>mean smoothness</td><td></td></tr><tr><td>5</td><td>mean compactness</td><td></td></tr><tr><td>6</td><td>mean concavity</td><td></td></tr><tr><td>7</td><td></td><td>mean concave points</td></tr><tr><td>8</td><td></td><td>mean symmetry</td></tr><tr><td>9</td><td>mean fractal dimension</td><td></td></tr><tr><td>10</td><td>radius error</td><td></td></tr><tr><td>11</td><td></td><td>texture error</td></tr><tr><td>12</td><td>perimeter error</td><td></td></tr><tr><td>13</td><td>area error</td><td></td></tr><tr><td>14</td><td></td><td>smoothness error</td></tr><tr><td>15</td><td>compactness error</td><td></td></tr><tr><td>16</td><td></td><td>concavity error</td></tr><tr><td>17</td><td></td><td>concave points error</td></tr><tr><td>18</td><td>symmetry error</td><td></td></tr><tr><td>19</td><td></td><td>fractal dimension error</td></tr><tr><td>20</td><td>worst radius</td><td></td></tr><tr><td>21</td><td></td><td>worst texture</td></tr><tr><td>22</td><td>worst perimeter</td><td></td></tr><tr><td>23</td><td>worst area</td><td></td></tr><tr><td>24</td><td></td><td>worst smoothness</td></tr><tr><td>25</td><td>worst compactness</td><td></td></tr><tr><td>26</td><td>worst concavity</td><td></td></tr><tr><td>27</td><td></td><td>worst concave points</td></tr><tr><td>28</td><td></td><td>worst symmetry</td></tr><tr><td>29</td><td>worst fractal dimension</td><td></td></tr></table>"
      ],
      "text/plain": [
       "<IPython.core.display.HTML object>"
      ]
     },
     "metadata": {},
     "output_type": "display_data"
    }
   ],
   "source": [
    "# Assuming 'best_featurest' is the binary vector indicating the selected features\n",
    "selected_feature_indices = np.where(best_features_overall == 1)[0]\n",
    "\n",
    "# Access feature names from the breast cancer dataset\n",
    "feature_names = np.array(cancer.feature_names)\n",
    "\n",
    "# Create HTML for the table-like output\n",
    "table_html = \"<table><tr><th>Feature Number</th><th>Selected Features</th><th>Not Selected Features</th></tr>\"\n",
    "table_html += f\"<tr><td></td><td>Total Selected Features:</td><td>{len(selected_feature_indices)}</td></tr>\"\n",
    "\n",
    "for idx, feature_name in enumerate(feature_names):\n",
    "    status = \"Selected\" if idx in selected_feature_indices else \"Not Selected\"\n",
    "    \n",
    "    if status == \"Selected\":\n",
    "        table_html += f\"<tr><td>{idx}</td><td>{feature_name}</td><td></td></tr>\"\n",
    "    else:\n",
    "        table_html += f\"<tr><td>{idx}</td><td></td><td>{feature_name}</td></tr>\"\n",
    "\n",
    "table_html += \"</table>\"\n",
    "\n",
    "print(best_features_overall)\n",
    "# Display the HTML table\n",
    "display(HTML(table_html))"
   ]
  }
 ],
 "metadata": {
  "kernelspec": {
   "display_name": "Python 3",
   "language": "python",
   "name": "python3"
  },
  "language_info": {
   "codemirror_mode": {
    "name": "ipython",
    "version": 3
   },
   "file_extension": ".py",
   "mimetype": "text/x-python",
   "name": "python",
   "nbconvert_exporter": "python",
   "pygments_lexer": "ipython3",
   "version": "3.12.1"
  }
 },
 "nbformat": 4,
 "nbformat_minor": 2
}
